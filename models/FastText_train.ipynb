{
 "cells": [
  {
   "cell_type": "markdown",
   "id": "2388665d",
   "metadata": {},
   "source": [
    "# Fasttext Model Train\n",
    "- Fasttext 모델을 판례 데이터로 학습"
   ]
  },
  {
   "cell_type": "markdown",
   "id": "32b356ad",
   "metadata": {},
   "source": [
    "## 1. 패키지 로드"
   ]
  },
  {
   "cell_type": "code",
   "execution_count": 1,
   "id": "bb39f8f1",
   "metadata": {},
   "outputs": [],
   "source": [
    "import pandas as pd\n",
    "import numpy as np\n",
    "import re\n",
    "import warnings\n",
    "\n",
    "from konlpy.tag import Mecab\n",
    "from gensim.models import FastText\n",
    "from nltk import sent_tokenize\n",
    "from sqlalchemy import create_engine\n",
    "from tqdm import tqdm_notebook"
   ]
  },
  {
   "cell_type": "code",
   "execution_count": 2,
   "id": "95da23e4",
   "metadata": {},
   "outputs": [],
   "source": [
    "# 경고무시를 위한 코드\n",
    "warnings.filterwarnings('ignore')"
   ]
  },
  {
   "cell_type": "markdown",
   "id": "49eb2aae",
   "metadata": {},
   "source": [
    "## 2. 판례 데이터 로드\n",
    "> 최신판례가 DB에 저장되어있기 때문에 DB로부터 데이터를 가져온다."
   ]
  },
  {
   "cell_type": "markdown",
   "id": "94833d1e",
   "metadata": {},
   "source": [
    "### 1) DB 정보"
   ]
  },
  {
   "cell_type": "code",
   "execution_count": 3,
   "id": "cdda1527",
   "metadata": {},
   "outputs": [],
   "source": [
    "host = 'localhost'\n",
    "user = 'root'\n",
    "password = '1234'\n",
    "db = 'cases'\n",
    "port = 3306"
   ]
  },
  {
   "cell_type": "markdown",
   "id": "6132ce11",
   "metadata": {},
   "source": [
    "### 2) DB 연동"
   ]
  },
  {
   "cell_type": "code",
   "execution_count": 4,
   "id": "5ac05445",
   "metadata": {},
   "outputs": [],
   "source": [
    "# 1. DB 연동\n",
    "db_connection_str = f'mysql+pymysql://{user}:{password}@{host}:{port}/{db}'\n",
    "db_connection = create_engine(db_connection_str)\n",
    "connect = db_connection.connect()"
   ]
  },
  {
   "cell_type": "markdown",
   "id": "055276ee",
   "metadata": {},
   "source": [
    "### 3) 데이터 읽기"
   ]
  },
  {
   "cell_type": "code",
   "execution_count": 5,
   "id": "101b0bf2",
   "metadata": {
    "scrolled": true
   },
   "outputs": [
    {
     "data": {
      "text/html": [
       "<div>\n",
       "<style scoped>\n",
       "    .dataframe tbody tr th:only-of-type {\n",
       "        vertical-align: middle;\n",
       "    }\n",
       "\n",
       "    .dataframe tbody tr th {\n",
       "        vertical-align: top;\n",
       "    }\n",
       "\n",
       "    .dataframe thead th {\n",
       "        text-align: right;\n",
       "    }\n",
       "</style>\n",
       "<table border=\"1\" class=\"dataframe\">\n",
       "  <thead>\n",
       "    <tr style=\"text-align: right;\">\n",
       "      <th></th>\n",
       "      <th>판례일련번호</th>\n",
       "      <th>사건명</th>\n",
       "      <th>사건번호</th>\n",
       "      <th>선고일자</th>\n",
       "      <th>선고</th>\n",
       "      <th>법원명</th>\n",
       "      <th>법원종류코드</th>\n",
       "      <th>사건종류명</th>\n",
       "      <th>사건종류코드</th>\n",
       "      <th>판결유형</th>\n",
       "      <th>판시사항</th>\n",
       "      <th>판결요지</th>\n",
       "      <th>참조조문</th>\n",
       "      <th>참조판례</th>\n",
       "      <th>판례내용</th>\n",
       "    </tr>\n",
       "  </thead>\n",
       "  <tbody>\n",
       "    <tr>\n",
       "      <th>0</th>\n",
       "      <td>64437</td>\n",
       "      <td>사해행위취소등</td>\n",
       "      <td>2003나1746</td>\n",
       "      <td>2003-07-10</td>\n",
       "      <td>선고</td>\n",
       "      <td>대전고법</td>\n",
       "      <td>4002</td>\n",
       "      <td>민사</td>\n",
       "      <td>4001</td>\n",
       "      <td>판결: 상고</td>\n",
       "      <td>파산자의 채권에 기한 사해행위취소의 소에서 사해행위 사실을 알았는지 여부를 파산관재...</td>\n",
       "      <td>파산법이 파산관재인에게 파산재단에 관한 소에 있어 원고 또는 피고가 된다고 한 것은...</td>\n",
       "      <td>민법 제406조 제2항\\n,\\n\\n         파산법 제7조</td>\n",
       "      <td>\\n대법원 1990. 11. 13. 선고 88다카26987 판결(공1991, 57)</td>\n",
       "      <td>【원고,항소인】   파산자 주식회사 충남상호신용금고의 파산관재인 예금보험공사 (소송...</td>\n",
       "    </tr>\n",
       "    <tr>\n",
       "      <th>1</th>\n",
       "      <td>64438</td>\n",
       "      <td>위증</td>\n",
       "      <td>2008도3300</td>\n",
       "      <td>2008-06-26</td>\n",
       "      <td>선고</td>\n",
       "      <td>대법원</td>\n",
       "      <td>4002</td>\n",
       "      <td>형사</td>\n",
       "      <td>4001</td>\n",
       "      <td>판결</td>\n",
       "      <td>[1] 공범인 공동피고인이 다른 공동피고인에 대한 공소사실에 관하여 증인적격이 있는...</td>\n",
       "      <td>[1] 공범인 공동피고인은 당해 소송절차에서는 피고인의 지위에 있으므로 다른 공동피...</td>\n",
       "      <td>[1] \\n        \\n        형사소송법 제146조, \\n       ...</td>\n",
       "      <td>[1] \\n        \\n        대법원 1983. 10. 25. 선고 8...</td>\n",
       "      <td>【피 고 인】 【상 고 인】 검사【원심판결】 수원지법 2008. 4. 1. 선고 2...</td>\n",
       "    </tr>\n",
       "    <tr>\n",
       "      <th>2</th>\n",
       "      <td>64439</td>\n",
       "      <td>상고장각하명령에대한이의</td>\n",
       "      <td>2007무77</td>\n",
       "      <td>2008-06-02</td>\n",
       "      <td>자</td>\n",
       "      <td>대법원</td>\n",
       "      <td>4002</td>\n",
       "      <td>일반행정</td>\n",
       "      <td>4001</td>\n",
       "      <td>결정</td>\n",
       "      <td>[1] 소송구조신청에 대한 기각결정이 확정되기 전에 소장 등에 인지를 첩부하지 않았...</td>\n",
       "      <td>[1] \\n          \\n          행정소송법 제8조 제2항에 의하여...</td>\n",
       "      <td>[1] \\n        \\n        민사소송 등 인지법 제1조, \\n    ...</td>\n",
       "      <td>[1] \\n        \\n        대법원 1993. 1. 25.자 92마1...</td>\n",
       "      <td>【재항고인(선정당사자)】 【상 대 방】 인천광역시장【원심명령】 서울고법 2007. ...</td>\n",
       "    </tr>\n",
       "    <tr>\n",
       "      <th>3</th>\n",
       "      <td>64440</td>\n",
       "      <td>손해배상(기)</td>\n",
       "      <td>2006다49284</td>\n",
       "      <td>2008-09-25</td>\n",
       "      <td>선고</td>\n",
       "      <td>대법원</td>\n",
       "      <td>4002</td>\n",
       "      <td>민사</td>\n",
       "      <td>4001</td>\n",
       "      <td>판결</td>\n",
       "      <td>광산에서 금광의 탐광 및 채광을 위한 굴진공사를 계속 진행할 경우 인근 주민들에게 ...</td>\n",
       "      <td>미기재</td>\n",
       "      <td>민법 제214조, \\n        제217조, \\n        헌법 제35조</td>\n",
       "      <td>없음</td>\n",
       "      <td>【원고, 피상고인 겸 상고인】 【피고, 상고인 겸 피상고인】 【원심판결】 대전고법 ...</td>\n",
       "    </tr>\n",
       "    <tr>\n",
       "      <th>4</th>\n",
       "      <td>64441</td>\n",
       "      <td>임대차보증금등·지료등</td>\n",
       "      <td>2006다62492,62508</td>\n",
       "      <td>2008-09-25</td>\n",
       "      <td>선고</td>\n",
       "      <td>대법원</td>\n",
       "      <td>4002</td>\n",
       "      <td>민사</td>\n",
       "      <td>4001</td>\n",
       "      <td>판결</td>\n",
       "      <td>[1] 계약의 법정 또는 약정 해지사유 발생시, 당사자가 경매신청 등 계약해지를 전...</td>\n",
       "      <td>미기재</td>\n",
       "      <td>[1] \\n        민법 제105조, \\n        제543조 / [2] ...</td>\n",
       "      <td>없음</td>\n",
       "      <td>【원고(반소피고), 상고인 겸 피상고인】 【피고(반소원고), 피상고인 겸 상고인】 ...</td>\n",
       "    </tr>\n",
       "  </tbody>\n",
       "</table>\n",
       "</div>"
      ],
      "text/plain": [
       "   판례일련번호           사건명              사건번호        선고일자  선고   법원명 법원종류코드 사건종류명  \\\n",
       "0   64437       사해행위취소등         2003나1746  2003-07-10  선고  대전고법   4002    민사   \n",
       "1   64438            위증         2008도3300  2008-06-26  선고   대법원   4002    형사   \n",
       "2   64439  상고장각하명령에대한이의           2007무77  2008-06-02   자   대법원   4002  일반행정   \n",
       "3   64440       손해배상(기)        2006다49284  2008-09-25  선고   대법원   4002    민사   \n",
       "4   64441   임대차보증금등·지료등  2006다62492,62508  2008-09-25  선고   대법원   4002    민사   \n",
       "\n",
       "  사건종류코드    판결유형                                               판시사항  \\\n",
       "0   4001  판결: 상고  파산자의 채권에 기한 사해행위취소의 소에서 사해행위 사실을 알았는지 여부를 파산관재...   \n",
       "1   4001      판결  [1] 공범인 공동피고인이 다른 공동피고인에 대한 공소사실에 관하여 증인적격이 있는...   \n",
       "2   4001      결정  [1] 소송구조신청에 대한 기각결정이 확정되기 전에 소장 등에 인지를 첩부하지 않았...   \n",
       "3   4001      판결  광산에서 금광의 탐광 및 채광을 위한 굴진공사를 계속 진행할 경우 인근 주민들에게 ...   \n",
       "4   4001      판결  [1] 계약의 법정 또는 약정 해지사유 발생시, 당사자가 경매신청 등 계약해지를 전...   \n",
       "\n",
       "                                                판결요지  \\\n",
       "0  파산법이 파산관재인에게 파산재단에 관한 소에 있어 원고 또는 피고가 된다고 한 것은...   \n",
       "1  [1] 공범인 공동피고인은 당해 소송절차에서는 피고인의 지위에 있으므로 다른 공동피...   \n",
       "2  [1] \\n          \\n          행정소송법 제8조 제2항에 의하여...   \n",
       "3                                                미기재   \n",
       "4                                                미기재   \n",
       "\n",
       "                                                참조조문  \\\n",
       "0                민법 제406조 제2항\\n,\\n\\n         파산법 제7조   \n",
       "1  [1] \\n        \\n        형사소송법 제146조, \\n       ...   \n",
       "2  [1] \\n        \\n        민사소송 등 인지법 제1조, \\n    ...   \n",
       "3       민법 제214조, \\n        제217조, \\n        헌법 제35조   \n",
       "4  [1] \\n        민법 제105조, \\n        제543조 / [2] ...   \n",
       "\n",
       "                                                참조판례  \\\n",
       "0     \\n대법원 1990. 11. 13. 선고 88다카26987 판결(공1991, 57)   \n",
       "1  [1] \\n        \\n        대법원 1983. 10. 25. 선고 8...   \n",
       "2  [1] \\n        \\n        대법원 1993. 1. 25.자 92마1...   \n",
       "3                                                 없음   \n",
       "4                                                 없음   \n",
       "\n",
       "                                                판례내용  \n",
       "0  【원고,항소인】   파산자 주식회사 충남상호신용금고의 파산관재인 예금보험공사 (소송...  \n",
       "1  【피 고 인】 【상 고 인】 검사【원심판결】 수원지법 2008. 4. 1. 선고 2...  \n",
       "2  【재항고인(선정당사자)】 【상 대 방】 인천광역시장【원심명령】 서울고법 2007. ...  \n",
       "3  【원고, 피상고인 겸 상고인】 【피고, 상고인 겸 피상고인】 【원심판결】 대전고법 ...  \n",
       "4  【원고(반소피고), 상고인 겸 피상고인】 【피고(반소원고), 피상고인 겸 상고인】 ...  "
      ]
     },
     "execution_count": 5,
     "metadata": {},
     "output_type": "execute_result"
    }
   ],
   "source": [
    "df = pd.read_sql(\"SELECT * FROM case_info\", connect)\n",
    "df.head()"
   ]
  },
  {
   "cell_type": "markdown",
   "id": "66e6c024",
   "metadata": {},
   "source": [
    "## 3. 전처리"
   ]
  },
  {
   "cell_type": "markdown",
   "id": "459658c8",
   "metadata": {},
   "source": [
    "### 1) 문장 토큰화 전 전처리\n",
    "- 특수문자, 숫자 등은 문장 토큰화시에 방해요인이므로 제거한다."
   ]
  },
  {
   "cell_type": "code",
   "execution_count": 7,
   "id": "10ab4882",
   "metadata": {},
   "outputs": [
    {
     "data": {
      "text/plain": [
       "0    원고항소인   파산자 주식회사 충남상호신용금고의 파산관재인 예금보험공사 소송대리인 ...\n",
       "1    피 고 인 상 고 인 검사원심판결 수원지법 . . . 선고 노 판결주    문  상...\n",
       "2    재항고인선정당사자 상 대 방 인천광역시장원심명령 서울고법 . . .자 누 병합 상고...\n",
       "Name: X, dtype: object"
      ]
     },
     "execution_count": 7,
     "metadata": {},
     "output_type": "execute_result"
    }
   ],
   "source": [
    "df['X'] = df['판례내용'].str.replace('[^가-힣. ]', '')\n",
    "df['X'].head(3)"
   ]
  },
  {
   "cell_type": "markdown",
   "id": "25bbf288",
   "metadata": {},
   "source": [
    "### 2) 문장 토큰화\n",
    "- 각 판례 본문을 문장으로 토큰화한다."
   ]
  },
  {
   "cell_type": "code",
   "execution_count": 8,
   "id": "a82c4836",
   "metadata": {},
   "outputs": [
    {
     "data": {
      "application/vnd.jupyter.widget-view+json": {
       "model_id": "11bb744938974a35ad6973d1667fa069",
       "version_major": 2,
       "version_minor": 0
      },
      "text/plain": [
       "  0%|          | 0/100 [00:00<?, ?it/s]"
      ]
     },
     "metadata": {},
     "output_type": "display_data"
    }
   ],
   "source": [
    "sentence_tokened = []\n",
    "\n",
    "for x in tqdm_notebook(df['X']):\n",
    "    sentence_tokened.extend(sent_tokenize(x))"
   ]
  },
  {
   "cell_type": "markdown",
   "id": "3886e373",
   "metadata": {},
   "source": [
    "### 3) 형태소 토큰화 전 전처리\n",
    "- 형태소 토큰화 전 한글 외의 문자들은 모두 제거한다."
   ]
  },
  {
   "cell_type": "code",
   "execution_count": 10,
   "id": "74d63401",
   "metadata": {},
   "outputs": [
    {
     "data": {
      "application/vnd.jupyter.widget-view+json": {
       "model_id": "6aa58e824ef7481fab28554c29dd79c3",
       "version_major": 2,
       "version_minor": 0
      },
      "text/plain": [
       "  0%|          | 0/2653 [00:00<?, ?it/s]"
      ]
     },
     "metadata": {},
     "output_type": "display_data"
    }
   ],
   "source": [
    "clean_sentence_tokened = []\n",
    "for sent in tqdm_notebook(sentence_tokened):\n",
    "    clean_sentence_tokened.append(re.sub('[^가-힣 ]', '', sent))"
   ]
  },
  {
   "cell_type": "markdown",
   "id": "c4c6b91e",
   "metadata": {},
   "source": [
    "### 4) 형태소 토큰화"
   ]
  },
  {
   "cell_type": "markdown",
   "id": "427cc7dc",
   "metadata": {},
   "source": [
    "#### (1) Mecab 형태소 분석기"
   ]
  },
  {
   "cell_type": "code",
   "execution_count": 11,
   "id": "235f3de4",
   "metadata": {},
   "outputs": [],
   "source": [
    "mecab = Mecab(dicpath=r\"C:/mecab/mecab-ko-dic\")"
   ]
  },
  {
   "cell_type": "markdown",
   "id": "297d1baa",
   "metadata": {},
   "source": [
    "#### (2) 형태소 토큰화"
   ]
  },
  {
   "cell_type": "code",
   "execution_count": 12,
   "id": "3e4dd125",
   "metadata": {},
   "outputs": [
    {
     "data": {
      "application/vnd.jupyter.widget-view+json": {
       "model_id": "6333b5b2f824407b8c226e34a761ee17",
       "version_major": 2,
       "version_minor": 0
      },
      "text/plain": [
       "  0%|          | 0/2653 [00:00<?, ?it/s]"
      ]
     },
     "metadata": {},
     "output_type": "display_data"
    }
   ],
   "source": [
    "tokenized_vocab = []\n",
    "\n",
    "for sent in tqdm_notebook(clean_sentence_tokened):\n",
    "    token_word = mecab.morphs(sent)\n",
    "    tokenized_vocab.append(token_word)"
   ]
  },
  {
   "cell_type": "markdown",
   "id": "c4293d76",
   "metadata": {},
   "source": [
    "## 4. 학습"
   ]
  },
  {
   "cell_type": "code",
   "execution_count": 17,
   "id": "bfe7f21c",
   "metadata": {},
   "outputs": [],
   "source": [
    "model = FastText(tokenized_vocab, vector_size=512, window=7, min_count=5, workers=4)"
   ]
  },
  {
   "cell_type": "markdown",
   "id": "e4a3ca0c",
   "metadata": {},
   "source": [
    "## 5. 모델 저장"
   ]
  },
  {
   "cell_type": "code",
   "execution_count": 18,
   "id": "96a089bf",
   "metadata": {},
   "outputs": [],
   "source": [
    "model.save('fasttext.model')"
   ]
  }
 ],
 "metadata": {
  "kernelspec": {
   "display_name": "Python 3 (ipykernel)",
   "language": "python",
   "name": "python3"
  },
  "language_info": {
   "codemirror_mode": {
    "name": "ipython",
    "version": 3
   },
   "file_extension": ".py",
   "mimetype": "text/x-python",
   "name": "python",
   "nbconvert_exporter": "python",
   "pygments_lexer": "ipython3",
   "version": "3.7.13"
  }
 },
 "nbformat": 4,
 "nbformat_minor": 5
}
