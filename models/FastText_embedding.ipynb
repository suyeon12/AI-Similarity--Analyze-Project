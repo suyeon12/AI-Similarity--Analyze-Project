{
 "cells": [
  {
   "cell_type": "markdown",
   "id": "8bfebcd1",
   "metadata": {},
   "source": [
    "## 1. 패키지 로드"
   ]
  },
  {
   "cell_type": "code",
   "execution_count": 1,
   "id": "d16c98dc",
   "metadata": {},
   "outputs": [],
   "source": [
    "import pandas as pd\n",
    "import numpy as np\n",
    "import pickle as pk\n",
    "\n",
    "from gensim.models import FastText\n",
    "from sqlalchemy import create_engine\n",
    "from tqdm import tqdm_notebook\n",
    "from nltk import sent_tokenize"
   ]
  },
  {
   "cell_type": "markdown",
   "id": "e5960cb6",
   "metadata": {},
   "source": [
    "## 2. 판례 데이터 로드"
   ]
  },
  {
   "cell_type": "markdown",
   "id": "a080bd95",
   "metadata": {},
   "source": [
    "### 1) DB 정보"
   ]
  },
  {
   "cell_type": "code",
   "execution_count": 2,
   "id": "4ecd80ed",
   "metadata": {},
   "outputs": [],
   "source": [
    "host = 'localhost'\n",
    "user = 'root'\n",
    "password = '1234'\n",
    "db = 'cases'\n",
    "port = 3306"
   ]
  },
  {
   "cell_type": "markdown",
   "id": "6232accd",
   "metadata": {},
   "source": [
    "### 2) DB 연동"
   ]
  },
  {
   "cell_type": "code",
   "execution_count": 3,
   "id": "25538d08",
   "metadata": {},
   "outputs": [],
   "source": [
    "db_connection_str = f'mysql+pymysql://{user}:{password}@{host}:{port}/{db}'\n",
    "db_connection = create_engine(db_connection_str)\n",
    "connect = db_connection.connect()"
   ]
  },
  {
   "cell_type": "markdown",
   "id": "f97d0871",
   "metadata": {},
   "source": [
    "### 3) 데이터 읽기"
   ]
  },
  {
   "cell_type": "code",
   "execution_count": 4,
   "id": "a27f8dcb",
   "metadata": {
    "scrolled": true
   },
   "outputs": [
    {
     "data": {
      "text/html": [
       "<div>\n",
       "<style scoped>\n",
       "    .dataframe tbody tr th:only-of-type {\n",
       "        vertical-align: middle;\n",
       "    }\n",
       "\n",
       "    .dataframe tbody tr th {\n",
       "        vertical-align: top;\n",
       "    }\n",
       "\n",
       "    .dataframe thead th {\n",
       "        text-align: right;\n",
       "    }\n",
       "</style>\n",
       "<table border=\"1\" class=\"dataframe\">\n",
       "  <thead>\n",
       "    <tr style=\"text-align: right;\">\n",
       "      <th></th>\n",
       "      <th>판례일련번호</th>\n",
       "      <th>사건명</th>\n",
       "      <th>사건번호</th>\n",
       "      <th>선고일자</th>\n",
       "      <th>선고</th>\n",
       "      <th>법원명</th>\n",
       "      <th>법원종류코드</th>\n",
       "      <th>사건종류명</th>\n",
       "      <th>사건종류코드</th>\n",
       "      <th>판결유형</th>\n",
       "      <th>판시사항</th>\n",
       "      <th>판결요지</th>\n",
       "      <th>참조조문</th>\n",
       "      <th>참조판례</th>\n",
       "      <th>판례내용</th>\n",
       "    </tr>\n",
       "  </thead>\n",
       "  <tbody>\n",
       "    <tr>\n",
       "      <th>0</th>\n",
       "      <td>64437</td>\n",
       "      <td>사해행위취소등</td>\n",
       "      <td>2003나1746</td>\n",
       "      <td>2003-07-10</td>\n",
       "      <td>선고</td>\n",
       "      <td>대전고법</td>\n",
       "      <td>4002</td>\n",
       "      <td>민사</td>\n",
       "      <td>4001</td>\n",
       "      <td>판결: 상고</td>\n",
       "      <td>파산자의 채권에 기한 사해행위취소의 소에서 사해행위 사실을 알았는지 여부를 파산관재...</td>\n",
       "      <td>파산법이 파산관재인에게 파산재단에 관한 소에 있어 원고 또는 피고가 된다고 한 것은...</td>\n",
       "      <td>민법 제406조 제2항\\n,\\n\\n         파산법 제7조</td>\n",
       "      <td>\\n대법원 1990. 11. 13. 선고 88다카26987 판결(공1991, 57)</td>\n",
       "      <td>【원고,항소인】   파산자 주식회사 충남상호신용금고의 파산관재인 예금보험공사 (소송...</td>\n",
       "    </tr>\n",
       "    <tr>\n",
       "      <th>1</th>\n",
       "      <td>64438</td>\n",
       "      <td>위증</td>\n",
       "      <td>2008도3300</td>\n",
       "      <td>2008-06-26</td>\n",
       "      <td>선고</td>\n",
       "      <td>대법원</td>\n",
       "      <td>4002</td>\n",
       "      <td>형사</td>\n",
       "      <td>4001</td>\n",
       "      <td>판결</td>\n",
       "      <td>[1] 공범인 공동피고인이 다른 공동피고인에 대한 공소사실에 관하여 증인적격이 있는...</td>\n",
       "      <td>[1] 공범인 공동피고인은 당해 소송절차에서는 피고인의 지위에 있으므로 다른 공동피...</td>\n",
       "      <td>[1] \\n        \\n        형사소송법 제146조, \\n       ...</td>\n",
       "      <td>[1] \\n        \\n        대법원 1983. 10. 25. 선고 8...</td>\n",
       "      <td>【피 고 인】 【상 고 인】 검사【원심판결】 수원지법 2008. 4. 1. 선고 2...</td>\n",
       "    </tr>\n",
       "    <tr>\n",
       "      <th>2</th>\n",
       "      <td>64439</td>\n",
       "      <td>상고장각하명령에대한이의</td>\n",
       "      <td>2007무77</td>\n",
       "      <td>2008-06-02</td>\n",
       "      <td>자</td>\n",
       "      <td>대법원</td>\n",
       "      <td>4002</td>\n",
       "      <td>일반행정</td>\n",
       "      <td>4001</td>\n",
       "      <td>결정</td>\n",
       "      <td>[1] 소송구조신청에 대한 기각결정이 확정되기 전에 소장 등에 인지를 첩부하지 않았...</td>\n",
       "      <td>[1] \\n          \\n          행정소송법 제8조 제2항에 의하여...</td>\n",
       "      <td>[1] \\n        \\n        민사소송 등 인지법 제1조, \\n    ...</td>\n",
       "      <td>[1] \\n        \\n        대법원 1993. 1. 25.자 92마1...</td>\n",
       "      <td>【재항고인(선정당사자)】 【상 대 방】 인천광역시장【원심명령】 서울고법 2007. ...</td>\n",
       "    </tr>\n",
       "    <tr>\n",
       "      <th>3</th>\n",
       "      <td>64440</td>\n",
       "      <td>손해배상(기)</td>\n",
       "      <td>2006다49284</td>\n",
       "      <td>2008-09-25</td>\n",
       "      <td>선고</td>\n",
       "      <td>대법원</td>\n",
       "      <td>4002</td>\n",
       "      <td>민사</td>\n",
       "      <td>4001</td>\n",
       "      <td>판결</td>\n",
       "      <td>광산에서 금광의 탐광 및 채광을 위한 굴진공사를 계속 진행할 경우 인근 주민들에게 ...</td>\n",
       "      <td>미기재</td>\n",
       "      <td>민법 제214조, \\n        제217조, \\n        헌법 제35조</td>\n",
       "      <td>없음</td>\n",
       "      <td>【원고, 피상고인 겸 상고인】 【피고, 상고인 겸 피상고인】 【원심판결】 대전고법 ...</td>\n",
       "    </tr>\n",
       "    <tr>\n",
       "      <th>4</th>\n",
       "      <td>64441</td>\n",
       "      <td>임대차보증금등·지료등</td>\n",
       "      <td>2006다62492,62508</td>\n",
       "      <td>2008-09-25</td>\n",
       "      <td>선고</td>\n",
       "      <td>대법원</td>\n",
       "      <td>4002</td>\n",
       "      <td>민사</td>\n",
       "      <td>4001</td>\n",
       "      <td>판결</td>\n",
       "      <td>[1] 계약의 법정 또는 약정 해지사유 발생시, 당사자가 경매신청 등 계약해지를 전...</td>\n",
       "      <td>미기재</td>\n",
       "      <td>[1] \\n        민법 제105조, \\n        제543조 / [2] ...</td>\n",
       "      <td>없음</td>\n",
       "      <td>【원고(반소피고), 상고인 겸 피상고인】 【피고(반소원고), 피상고인 겸 상고인】 ...</td>\n",
       "    </tr>\n",
       "  </tbody>\n",
       "</table>\n",
       "</div>"
      ],
      "text/plain": [
       "   판례일련번호           사건명              사건번호        선고일자  선고   법원명 법원종류코드 사건종류명  \\\n",
       "0   64437       사해행위취소등         2003나1746  2003-07-10  선고  대전고법   4002    민사   \n",
       "1   64438            위증         2008도3300  2008-06-26  선고   대법원   4002    형사   \n",
       "2   64439  상고장각하명령에대한이의           2007무77  2008-06-02   자   대법원   4002  일반행정   \n",
       "3   64440       손해배상(기)        2006다49284  2008-09-25  선고   대법원   4002    민사   \n",
       "4   64441   임대차보증금등·지료등  2006다62492,62508  2008-09-25  선고   대법원   4002    민사   \n",
       "\n",
       "  사건종류코드    판결유형                                               판시사항  \\\n",
       "0   4001  판결: 상고  파산자의 채권에 기한 사해행위취소의 소에서 사해행위 사실을 알았는지 여부를 파산관재...   \n",
       "1   4001      판결  [1] 공범인 공동피고인이 다른 공동피고인에 대한 공소사실에 관하여 증인적격이 있는...   \n",
       "2   4001      결정  [1] 소송구조신청에 대한 기각결정이 확정되기 전에 소장 등에 인지를 첩부하지 않았...   \n",
       "3   4001      판결  광산에서 금광의 탐광 및 채광을 위한 굴진공사를 계속 진행할 경우 인근 주민들에게 ...   \n",
       "4   4001      판결  [1] 계약의 법정 또는 약정 해지사유 발생시, 당사자가 경매신청 등 계약해지를 전...   \n",
       "\n",
       "                                                판결요지  \\\n",
       "0  파산법이 파산관재인에게 파산재단에 관한 소에 있어 원고 또는 피고가 된다고 한 것은...   \n",
       "1  [1] 공범인 공동피고인은 당해 소송절차에서는 피고인의 지위에 있으므로 다른 공동피...   \n",
       "2  [1] \\n          \\n          행정소송법 제8조 제2항에 의하여...   \n",
       "3                                                미기재   \n",
       "4                                                미기재   \n",
       "\n",
       "                                                참조조문  \\\n",
       "0                민법 제406조 제2항\\n,\\n\\n         파산법 제7조   \n",
       "1  [1] \\n        \\n        형사소송법 제146조, \\n       ...   \n",
       "2  [1] \\n        \\n        민사소송 등 인지법 제1조, \\n    ...   \n",
       "3       민법 제214조, \\n        제217조, \\n        헌법 제35조   \n",
       "4  [1] \\n        민법 제105조, \\n        제543조 / [2] ...   \n",
       "\n",
       "                                                참조판례  \\\n",
       "0     \\n대법원 1990. 11. 13. 선고 88다카26987 판결(공1991, 57)   \n",
       "1  [1] \\n        \\n        대법원 1983. 10. 25. 선고 8...   \n",
       "2  [1] \\n        \\n        대법원 1993. 1. 25.자 92마1...   \n",
       "3                                                 없음   \n",
       "4                                                 없음   \n",
       "\n",
       "                                                판례내용  \n",
       "0  【원고,항소인】   파산자 주식회사 충남상호신용금고의 파산관재인 예금보험공사 (소송...  \n",
       "1  【피 고 인】 【상 고 인】 검사【원심판결】 수원지법 2008. 4. 1. 선고 2...  \n",
       "2  【재항고인(선정당사자)】 【상 대 방】 인천광역시장【원심명령】 서울고법 2007. ...  \n",
       "3  【원고, 피상고인 겸 상고인】 【피고, 상고인 겸 피상고인】 【원심판결】 대전고법 ...  \n",
       "4  【원고(반소피고), 상고인 겸 피상고인】 【피고(반소원고), 피상고인 겸 상고인】 ...  "
      ]
     },
     "execution_count": 4,
     "metadata": {},
     "output_type": "execute_result"
    }
   ],
   "source": [
    "df = pd.read_sql(\"SELECT * FROM case_info\", connect)\n",
    "df.head()"
   ]
  },
  {
   "cell_type": "markdown",
   "id": "b949afd0",
   "metadata": {},
   "source": [
    "## 3. 모델 로드"
   ]
  },
  {
   "cell_type": "code",
   "execution_count": 5,
   "id": "89f064f5",
   "metadata": {},
   "outputs": [
    {
     "ename": "FileNotFoundError",
     "evalue": "[Errno 2] No such file or directory: './fasttext/fasttext.model'",
     "output_type": "error",
     "traceback": [
      "\u001b[1;31m---------------------------------------------------------------------------\u001b[0m",
      "\u001b[1;31mFileNotFoundError\u001b[0m                         Traceback (most recent call last)",
      "\u001b[1;32m~\\AppData\\Local\\Temp\\ipykernel_14248\\739083456.py\u001b[0m in \u001b[0;36m<module>\u001b[1;34m\u001b[0m\n\u001b[1;32m----> 1\u001b[1;33m \u001b[0mmodel\u001b[0m \u001b[1;33m=\u001b[0m \u001b[0mFastText\u001b[0m\u001b[1;33m.\u001b[0m\u001b[0mload\u001b[0m\u001b[1;33m(\u001b[0m\u001b[1;34m'./fasttext/fasttext.model'\u001b[0m\u001b[1;33m)\u001b[0m\u001b[1;33m\u001b[0m\u001b[1;33m\u001b[0m\u001b[0m\n\u001b[0m",
      "\u001b[1;32m~\\anaconda3\\envs\\nlp-gpu\\lib\\site-packages\\gensim\\models\\fasttext.py\u001b[0m in \u001b[0;36mload\u001b[1;34m(cls, *args, **kwargs)\u001b[0m\n\u001b[0;32m    635\u001b[0m \u001b[1;33m\u001b[0m\u001b[0m\n\u001b[0;32m    636\u001b[0m         \"\"\"\n\u001b[1;32m--> 637\u001b[1;33m         \u001b[1;32mreturn\u001b[0m \u001b[0msuper\u001b[0m\u001b[1;33m(\u001b[0m\u001b[0mFastText\u001b[0m\u001b[1;33m,\u001b[0m \u001b[0mcls\u001b[0m\u001b[1;33m)\u001b[0m\u001b[1;33m.\u001b[0m\u001b[0mload\u001b[0m\u001b[1;33m(\u001b[0m\u001b[1;33m*\u001b[0m\u001b[0margs\u001b[0m\u001b[1;33m,\u001b[0m \u001b[0mrethrow\u001b[0m\u001b[1;33m=\u001b[0m\u001b[1;32mTrue\u001b[0m\u001b[1;33m,\u001b[0m \u001b[1;33m**\u001b[0m\u001b[0mkwargs\u001b[0m\u001b[1;33m)\u001b[0m\u001b[1;33m\u001b[0m\u001b[1;33m\u001b[0m\u001b[0m\n\u001b[0m\u001b[0;32m    638\u001b[0m \u001b[1;33m\u001b[0m\u001b[0m\n\u001b[0;32m    639\u001b[0m     \u001b[1;32mdef\u001b[0m \u001b[0m_load_specials\u001b[0m\u001b[1;33m(\u001b[0m\u001b[0mself\u001b[0m\u001b[1;33m,\u001b[0m \u001b[1;33m*\u001b[0m\u001b[0margs\u001b[0m\u001b[1;33m,\u001b[0m \u001b[1;33m**\u001b[0m\u001b[0mkwargs\u001b[0m\u001b[1;33m)\u001b[0m\u001b[1;33m:\u001b[0m\u001b[1;33m\u001b[0m\u001b[1;33m\u001b[0m\u001b[0m\n",
      "\u001b[1;32m~\\anaconda3\\envs\\nlp-gpu\\lib\\site-packages\\gensim\\models\\word2vec.py\u001b[0m in \u001b[0;36mload\u001b[1;34m(cls, rethrow, *args, **kwargs)\u001b[0m\n\u001b[0;32m   1937\u001b[0m         \"\"\"\n\u001b[0;32m   1938\u001b[0m         \u001b[1;32mtry\u001b[0m\u001b[1;33m:\u001b[0m\u001b[1;33m\u001b[0m\u001b[1;33m\u001b[0m\u001b[0m\n\u001b[1;32m-> 1939\u001b[1;33m             \u001b[0mmodel\u001b[0m \u001b[1;33m=\u001b[0m \u001b[0msuper\u001b[0m\u001b[1;33m(\u001b[0m\u001b[0mWord2Vec\u001b[0m\u001b[1;33m,\u001b[0m \u001b[0mcls\u001b[0m\u001b[1;33m)\u001b[0m\u001b[1;33m.\u001b[0m\u001b[0mload\u001b[0m\u001b[1;33m(\u001b[0m\u001b[1;33m*\u001b[0m\u001b[0margs\u001b[0m\u001b[1;33m,\u001b[0m \u001b[1;33m**\u001b[0m\u001b[0mkwargs\u001b[0m\u001b[1;33m)\u001b[0m\u001b[1;33m\u001b[0m\u001b[1;33m\u001b[0m\u001b[0m\n\u001b[0m\u001b[0;32m   1940\u001b[0m             \u001b[1;32mif\u001b[0m \u001b[1;32mnot\u001b[0m \u001b[0misinstance\u001b[0m\u001b[1;33m(\u001b[0m\u001b[0mmodel\u001b[0m\u001b[1;33m,\u001b[0m \u001b[0mWord2Vec\u001b[0m\u001b[1;33m)\u001b[0m\u001b[1;33m:\u001b[0m\u001b[1;33m\u001b[0m\u001b[1;33m\u001b[0m\u001b[0m\n\u001b[0;32m   1941\u001b[0m                 \u001b[0mrethrow\u001b[0m \u001b[1;33m=\u001b[0m \u001b[1;32mTrue\u001b[0m\u001b[1;33m\u001b[0m\u001b[1;33m\u001b[0m\u001b[0m\n",
      "\u001b[1;32m~\\anaconda3\\envs\\nlp-gpu\\lib\\site-packages\\gensim\\utils.py\u001b[0m in \u001b[0;36mload\u001b[1;34m(cls, fname, mmap)\u001b[0m\n\u001b[0;32m    484\u001b[0m         \u001b[0mcompress\u001b[0m\u001b[1;33m,\u001b[0m \u001b[0msubname\u001b[0m \u001b[1;33m=\u001b[0m \u001b[0mSaveLoad\u001b[0m\u001b[1;33m.\u001b[0m\u001b[0m_adapt_by_suffix\u001b[0m\u001b[1;33m(\u001b[0m\u001b[0mfname\u001b[0m\u001b[1;33m)\u001b[0m\u001b[1;33m\u001b[0m\u001b[1;33m\u001b[0m\u001b[0m\n\u001b[0;32m    485\u001b[0m \u001b[1;33m\u001b[0m\u001b[0m\n\u001b[1;32m--> 486\u001b[1;33m         \u001b[0mobj\u001b[0m \u001b[1;33m=\u001b[0m \u001b[0munpickle\u001b[0m\u001b[1;33m(\u001b[0m\u001b[0mfname\u001b[0m\u001b[1;33m)\u001b[0m\u001b[1;33m\u001b[0m\u001b[1;33m\u001b[0m\u001b[0m\n\u001b[0m\u001b[0;32m    487\u001b[0m         \u001b[0mobj\u001b[0m\u001b[1;33m.\u001b[0m\u001b[0m_load_specials\u001b[0m\u001b[1;33m(\u001b[0m\u001b[0mfname\u001b[0m\u001b[1;33m,\u001b[0m \u001b[0mmmap\u001b[0m\u001b[1;33m,\u001b[0m \u001b[0mcompress\u001b[0m\u001b[1;33m,\u001b[0m \u001b[0msubname\u001b[0m\u001b[1;33m)\u001b[0m\u001b[1;33m\u001b[0m\u001b[1;33m\u001b[0m\u001b[0m\n\u001b[0;32m    488\u001b[0m         \u001b[0mobj\u001b[0m\u001b[1;33m.\u001b[0m\u001b[0madd_lifecycle_event\u001b[0m\u001b[1;33m(\u001b[0m\u001b[1;34m\"loaded\"\u001b[0m\u001b[1;33m,\u001b[0m \u001b[0mfname\u001b[0m\u001b[1;33m=\u001b[0m\u001b[0mfname\u001b[0m\u001b[1;33m)\u001b[0m\u001b[1;33m\u001b[0m\u001b[1;33m\u001b[0m\u001b[0m\n",
      "\u001b[1;32m~\\anaconda3\\envs\\nlp-gpu\\lib\\site-packages\\gensim\\utils.py\u001b[0m in \u001b[0;36munpickle\u001b[1;34m(fname)\u001b[0m\n\u001b[0;32m   1458\u001b[0m \u001b[1;33m\u001b[0m\u001b[0m\n\u001b[0;32m   1459\u001b[0m     \"\"\"\n\u001b[1;32m-> 1460\u001b[1;33m     \u001b[1;32mwith\u001b[0m \u001b[0mopen\u001b[0m\u001b[1;33m(\u001b[0m\u001b[0mfname\u001b[0m\u001b[1;33m,\u001b[0m \u001b[1;34m'rb'\u001b[0m\u001b[1;33m)\u001b[0m \u001b[1;32mas\u001b[0m \u001b[0mf\u001b[0m\u001b[1;33m:\u001b[0m\u001b[1;33m\u001b[0m\u001b[1;33m\u001b[0m\u001b[0m\n\u001b[0m\u001b[0;32m   1461\u001b[0m         \u001b[1;32mreturn\u001b[0m \u001b[0m_pickle\u001b[0m\u001b[1;33m.\u001b[0m\u001b[0mload\u001b[0m\u001b[1;33m(\u001b[0m\u001b[0mf\u001b[0m\u001b[1;33m,\u001b[0m \u001b[0mencoding\u001b[0m\u001b[1;33m=\u001b[0m\u001b[1;34m'latin1'\u001b[0m\u001b[1;33m)\u001b[0m  \u001b[1;31m# needed because loading from S3 doesn't support readline()\u001b[0m\u001b[1;33m\u001b[0m\u001b[1;33m\u001b[0m\u001b[0m\n\u001b[0;32m   1462\u001b[0m \u001b[1;33m\u001b[0m\u001b[0m\n",
      "\u001b[1;32m~\\anaconda3\\envs\\nlp-gpu\\lib\\site-packages\\smart_open\\smart_open_lib.py\u001b[0m in \u001b[0;36mopen\u001b[1;34m(uri, mode, buffering, encoding, errors, newline, closefd, opener, compression, transport_params)\u001b[0m\n\u001b[0;32m    182\u001b[0m         \u001b[0mencoding\u001b[0m\u001b[1;33m=\u001b[0m\u001b[0mencoding\u001b[0m\u001b[1;33m,\u001b[0m\u001b[1;33m\u001b[0m\u001b[1;33m\u001b[0m\u001b[0m\n\u001b[0;32m    183\u001b[0m         \u001b[0merrors\u001b[0m\u001b[1;33m=\u001b[0m\u001b[0merrors\u001b[0m\u001b[1;33m,\u001b[0m\u001b[1;33m\u001b[0m\u001b[1;33m\u001b[0m\u001b[0m\n\u001b[1;32m--> 184\u001b[1;33m         \u001b[0mnewline\u001b[0m\u001b[1;33m=\u001b[0m\u001b[0mnewline\u001b[0m\u001b[1;33m,\u001b[0m\u001b[1;33m\u001b[0m\u001b[1;33m\u001b[0m\u001b[0m\n\u001b[0m\u001b[0;32m    185\u001b[0m     )\n\u001b[0;32m    186\u001b[0m     \u001b[1;32mif\u001b[0m \u001b[0mfobj\u001b[0m \u001b[1;32mis\u001b[0m \u001b[1;32mnot\u001b[0m \u001b[1;32mNone\u001b[0m\u001b[1;33m:\u001b[0m\u001b[1;33m\u001b[0m\u001b[1;33m\u001b[0m\u001b[0m\n",
      "\u001b[1;32m~\\anaconda3\\envs\\nlp-gpu\\lib\\site-packages\\smart_open\\smart_open_lib.py\u001b[0m in \u001b[0;36m_shortcut_open\u001b[1;34m(uri, mode, compression, buffering, encoding, errors, newline)\u001b[0m\n\u001b[0;32m    361\u001b[0m         \u001b[0mopen_kwargs\u001b[0m\u001b[1;33m[\u001b[0m\u001b[1;34m'errors'\u001b[0m\u001b[1;33m]\u001b[0m \u001b[1;33m=\u001b[0m \u001b[0merrors\u001b[0m\u001b[1;33m\u001b[0m\u001b[1;33m\u001b[0m\u001b[0m\n\u001b[0;32m    362\u001b[0m \u001b[1;33m\u001b[0m\u001b[0m\n\u001b[1;32m--> 363\u001b[1;33m     \u001b[1;32mreturn\u001b[0m \u001b[0m_builtin_open\u001b[0m\u001b[1;33m(\u001b[0m\u001b[0mlocal_path\u001b[0m\u001b[1;33m,\u001b[0m \u001b[0mmode\u001b[0m\u001b[1;33m,\u001b[0m \u001b[0mbuffering\u001b[0m\u001b[1;33m=\u001b[0m\u001b[0mbuffering\u001b[0m\u001b[1;33m,\u001b[0m \u001b[1;33m**\u001b[0m\u001b[0mopen_kwargs\u001b[0m\u001b[1;33m)\u001b[0m\u001b[1;33m\u001b[0m\u001b[1;33m\u001b[0m\u001b[0m\n\u001b[0m\u001b[0;32m    364\u001b[0m \u001b[1;33m\u001b[0m\u001b[0m\n\u001b[0;32m    365\u001b[0m \u001b[1;33m\u001b[0m\u001b[0m\n",
      "\u001b[1;31mFileNotFoundError\u001b[0m: [Errno 2] No such file or directory: './fasttext/fasttext.model'"
     ]
    }
   ],
   "source": [
    "model = FastText.load('./fasttext/fasttext.model')"
   ]
  },
  {
   "cell_type": "markdown",
   "id": "5c36d87a",
   "metadata": {},
   "source": [
    "## 4. 임베딩 전 전처리"
   ]
  },
  {
   "cell_type": "markdown",
   "id": "5151061a",
   "metadata": {},
   "source": [
    "### 1) 문장 토큰화 전 전처리"
   ]
  },
  {
   "cell_type": "code",
   "execution_count": 8,
   "id": "e81b2bc8",
   "metadata": {},
   "outputs": [
    {
     "name": "stderr",
     "output_type": "stream",
     "text": [
      "C:\\Users\\Park Ji Seong\\anaconda3\\envs\\nlp-gpu\\lib\\site-packages\\ipykernel_launcher.py:1: FutureWarning: The default value of regex will change from True to False in a future version.\n",
      "  \"\"\"Entry point for launching an IPython kernel.\n"
     ]
    },
    {
     "data": {
      "text/plain": [
       "0    원고항소인   파산자 주식회사 충남상호신용금고의 파산관재인 예금보험공사 소송대리인 ...\n",
       "1    피 고 인 상 고 인 검사원심판결 수원지법 . . . 선고 노 판결주    문  상...\n",
       "2    재항고인선정당사자 상 대 방 인천광역시장원심명령 서울고법 . . .자 누 병합 상고...\n",
       "Name: X, dtype: object"
      ]
     },
     "execution_count": 8,
     "metadata": {},
     "output_type": "execute_result"
    }
   ],
   "source": [
    "df['X'] = df['판례내용'].str.replace('[^가-힣. ]', '')\n",
    "df['X'].head(3)"
   ]
  },
  {
   "cell_type": "markdown",
   "id": "cae28a40",
   "metadata": {},
   "source": [
    "### 2) 문장 토큰화\n",
    "- sentence embedding을 사용할 것이므로 문장토큰화 진행"
   ]
  },
  {
   "cell_type": "code",
   "execution_count": 13,
   "id": "fc4315fa",
   "metadata": {},
   "outputs": [
    {
     "name": "stderr",
     "output_type": "stream",
     "text": [
      "C:\\Users\\Park Ji Seong\\anaconda3\\envs\\nlp-gpu\\lib\\site-packages\\ipykernel_launcher.py:3: TqdmDeprecationWarning: This function will be removed in tqdm==5.0.0\n",
      "Please use `tqdm.notebook.tqdm` instead of `tqdm.tqdm_notebook`\n",
      "  This is separate from the ipykernel package so we can avoid doing imports until\n"
     ]
    },
    {
     "data": {
      "application/vnd.jupyter.widget-view+json": {
       "model_id": "9bdb1d4603fd43e295490b17b585fb08",
       "version_major": 2,
       "version_minor": 0
      },
      "text/plain": [
       "  0%|          | 0/84735 [00:00<?, ?it/s]"
      ]
     },
     "metadata": {},
     "output_type": "display_data"
    }
   ],
   "source": [
    "sentence_tokened = []\n",
    "\n",
    "for x in tqdm_notebook(df['X']):\n",
    "    sentence_tokened.append(sent_tokenize(x))"
   ]
  },
  {
   "cell_type": "markdown",
   "id": "74e1b01b",
   "metadata": {},
   "source": [
    "## 5. 임베딩"
   ]
  },
  {
   "cell_type": "code",
   "execution_count": 36,
   "id": "c0386625",
   "metadata": {},
   "outputs": [
    {
     "name": "stderr",
     "output_type": "stream",
     "text": [
      "C:\\Users\\Park Ji Seong\\anaconda3\\envs\\nlp-gpu\\lib\\site-packages\\ipykernel_launcher.py:3: TqdmDeprecationWarning: This function will be removed in tqdm==5.0.0\n",
      "Please use `tqdm.notebook.tqdm` instead of `tqdm.tqdm_notebook`\n",
      "  This is separate from the ipykernel package so we can avoid doing imports until\n"
     ]
    },
    {
     "data": {
      "application/vnd.jupyter.widget-view+json": {
       "model_id": "beb8fb8c2ebb47038a9d974f90c969bd",
       "version_major": 2,
       "version_minor": 0
      },
      "text/plain": [
       "  0%|          | 0/84735 [00:00<?, ?it/s]"
      ]
     },
     "metadata": {},
     "output_type": "display_data"
    }
   ],
   "source": [
    "embeddings = []\n",
    "\n",
    "for sentences in tqdm_notebook(sentence_tokened):\n",
    "    embedding = None\n",
    "    count = 0\n",
    "    for sentence in sentences:\n",
    "        if embedding is None:\n",
    "            embedding = model.wv.get_sentence_vector(sentence)\n",
    "        else:\n",
    "            embedding += model.wv.get_sentence_vector(sentence)\n",
    "        count += 1\n",
    "    embeddings.append(embedding / count)"
   ]
  },
  {
   "cell_type": "markdown",
   "id": "3d6d8e84",
   "metadata": {},
   "source": [
    "## 6. 임베딩 값 저장"
   ]
  },
  {
   "cell_type": "code",
   "execution_count": 39,
   "id": "00e77ccc",
   "metadata": {},
   "outputs": [],
   "source": [
    "with open(\"./data/fasttext_embedding.pickle\", \"wb\") as fw:\n",
    "    pk.dump(embeddings, fw)"
   ]
  }
 ],
 "metadata": {
  "kernelspec": {
   "display_name": "Python 3 (ipykernel)",
   "language": "python",
   "name": "python3"
  },
  "language_info": {
   "codemirror_mode": {
    "name": "ipython",
    "version": 3
   },
   "file_extension": ".py",
   "mimetype": "text/x-python",
   "name": "python",
   "nbconvert_exporter": "python",
   "pygments_lexer": "ipython3",
   "version": "3.7.13"
  }
 },
 "nbformat": 4,
 "nbformat_minor": 5
}
